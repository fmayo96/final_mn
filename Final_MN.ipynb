{
 "cells": [
  {
   "cell_type": "markdown",
   "id": "715db8c1-eda5-48ad-9256-3b67be919751",
   "metadata": {},
   "source": [
    "# Final Métodos numéricos, cátedra Pablo Dimitruk\n",
    "\n",
    "El objetivo de este trabajo es estudiar el proceso de decoherencia para una partícula de masa $m$ utilizando el modelo de Caldeira-Leggett [1]. Para esto resolveremos numéricamente la ecuación maestra y obtendremos la evolución temporal de una partícula en un entorno bosónico. La partícula iniciará en un estado superposición de dos paquetes gaussianos (lo que habitualmente se llama un estado gato de Schrödinger) y esperamos ver cómo los elementos no diagonales de la matriz densidad desaparecen por efecto de la decoherencia, resultando en un estado final clásico (mezcla estadística de dos paquetes gaussianos). \n",
    "\n",
    "Resolveremos el problema con diferentes métodos y analizaremos sus errores numéricos. Como integradores temporales consideramos el método de Euler y el método Runge-Kutta 4. Para las derivadas espaciales consideraremos primero diferencias finitas centradas, y luego un método pseudo espectral. \n",
    "\n",
    "La ecuación que queremos resolver es la siguiente:\n",
    "\n",
    "$\\frac{d}{dt}\\rho_\\mathcal{S}(x,x^{'},t)\\,=\\,\\left[\\frac{i}{2m}\\left(\\frac{\\partial^2}{\\partial x^2} - \\frac{\\partial^2}{\\partial {x^{'}}^2}\\right) - \\gamma\\,(x-x^{'})\\left(\\frac{\\partial}{\\partial x}\\,-\\,\\frac{\\partial}{\\partial x^{'}}\\right)\\,-\\,2m\\gamma k_BT\\,(x-x^{'})^2\\right]\\,\\rho_\\mathcal{S}(x,x^{'},t)$\n",
    "\n",
    "donde $\\rho_\\mathcal{S}(x,x^{'}, t)$ es el operador densidad del sistema a tiempo $t$.\n",
    "\n",
    "La condición inicial del sistema es: AGREGAR\n",
    "\n",
    "\n",
    "\n",
    "[1] Caldeira, A. O., & Leggett, A. J. (1981). Influence of dissipation on quantum tunneling in macroscopic systems. Physical review letters, 46(4), 211."
   ]
  },
  {
   "cell_type": "markdown",
   "id": "17562a50-c249-4786-8259-367a5410c5dc",
   "metadata": {},
   "source": [
    "## Resolución numérica del problema"
   ]
  },
  {
   "cell_type": "code",
   "execution_count": 196,
   "id": "a381580f-96e8-4d8b-9121-e5d9660f155c",
   "metadata": {},
   "outputs": [],
   "source": [
    "import numpy as np \n",
    "import matplotlib.pyplot as plt \n",
    "from mpl_toolkits import mplot3d\n",
    "from scipy.sparse import diags\n",
    "from tqdm import tqdm\n",
    "import warnings\n",
    "warnings.filterwarnings('ignore')"
   ]
  },
  {
   "cell_type": "code",
   "execution_count": 201,
   "id": "1d1fdf0b-5592-4317-b1e6-9e1699d9d759",
   "metadata": {},
   "outputs": [],
   "source": [
    "#### Parameters\n",
    "m = 1\n",
    "gamma = 1e-2\n",
    "T = 10\n",
    "L = 4 # Box side\n",
    "var = 1 / (2*m*T)**0.5 # Gaussian variance\n",
    "dist = 1 # Separation between gaussians\n",
    "\n",
    "### Initial state:\n",
    "def init_state(var, dist, L, Nx, Ny) -> np.ndarray:\n",
    "    rho = np.zeros([Nx, Ny], dtype=np.complex128)\n",
    "    x = np.linspace(0, L, Nx)\n",
    "    y = np.linspace(0, L, Ny)\n",
    "    Y, X = np.meshgrid(x, y)\n",
    "    rho = ((np.exp(-(X - L/2.0 + dist/2)**2/(2*var**2)) +\n",
    "            np.exp(-(X - L/2.0 - dist/2)**2/(2*var**2))) * \n",
    "           (np.exp(-(Y - L/2.0 + dist/2)**2/(2*var**2)) +\n",
    "            np.exp(-(Y - L/2.0 - dist/2)**2/(2*var**2))))\n",
    "    return rho / rho.trace()\n",
    "\n",
    "def final_state(var, dist, L, Nx, Ny):\n",
    "    rho = np.zeros([Nx, Ny], dtype=np.complex128)\n",
    "    x = np.linspace(0, L, Nx)\n",
    "    y = np.linspace(0, L, Ny)\n",
    "    Y, X = np.meshgrid(x, y)\n",
    "    rho = (np.exp(-(X - L/2.0 + dist/2)**2/(2*var**2)) *\n",
    "           np.exp(-(Y - L/2.0 + dist/2)**2/(2*var**2)) + \n",
    "           np.exp(-(X - L/2.0 - dist/2)**2/(2*var**2)) *      \n",
    "           np.exp(-(Y - L/2.0 - dist/2)**2/(2*var**2)))\n",
    "    return rho / rho.trace()"
   ]
  },
  {
   "cell_type": "code",
   "execution_count": 234,
   "id": "a5458f23-6b42-422d-a2e2-83297b992f07",
   "metadata": {},
   "outputs": [
    {
     "data": {
      "text/plain": [
       "matrix([[ 0.        ,  0.66666667, -0.08333333,  0.        ,  0.        ,\n",
       "          0.        ,  0.08333333, -0.66666667],\n",
       "        [-0.66666667,  0.        ,  0.66666667, -0.08333333,  0.        ,\n",
       "          0.        ,  0.        ,  0.08333333],\n",
       "        [ 0.08333333, -0.66666667,  0.        ,  0.66666667, -0.08333333,\n",
       "          0.        ,  0.        ,  0.        ],\n",
       "        [ 0.        ,  0.08333333, -0.66666667,  0.        ,  0.66666667,\n",
       "         -0.08333333,  0.        ,  0.        ],\n",
       "        [ 0.        ,  0.        ,  0.08333333, -0.66666667,  0.        ,\n",
       "          0.66666667, -0.08333333,  0.        ],\n",
       "        [ 0.        ,  0.        ,  0.        ,  0.08333333, -0.66666667,\n",
       "          0.        ,  0.66666667, -0.08333333],\n",
       "        [-0.08333333,  0.        ,  0.        ,  0.        ,  0.08333333,\n",
       "         -0.66666667,  0.        ,  0.66666667],\n",
       "        [ 0.66666667, -0.08333333,  0.        ,  0.        ,  0.        ,\n",
       "          0.08333333, -0.66666667,  0.        ]])"
      ]
     },
     "execution_count": 234,
     "metadata": {},
     "output_type": "execute_result"
    }
   ],
   "source": [
    "N = 8\n",
    "D = diags([2/3 ,-1/12*np.ones(2), 1/12*np.ones(N-2), -2/3*np.ones(N-1), 2/3*np.ones(N-1), -1/12*np.ones(N-1), 1/12*np.ones(2), -2/3],\n",
    "          offsets=[-N+1, -N+2, -2,-1,1,2, N-2, N-1])\n",
    "D.todense()"
   ]
  },
  {
   "cell_type": "code",
   "execution_count": 239,
   "id": "fb6bafc8-b015-4730-a3d1-ff9fdd06ed92",
   "metadata": {},
   "outputs": [],
   "source": [
    "\n",
    "def diff(func, d, N, order=1, axis=0, method='findiff'):\n",
    "    \"\"\"\n",
    "    Calculates partial derivatives of a 1D or 2D function.\n",
    "    inputs:\n",
    "        - func: funtion to calculate the partial derivatives of (array).\n",
    "        - d: differential (float)\n",
    "        - N: grid points on the direction of differentiation (int).\n",
    "        - order: order of the derivative (int).\n",
    "        - axis: direction of derivative (axis=0: dx, axis=1: dy).\n",
    "        -method: 'findif': finite differences; 'spectral': fourier.\n",
    "    return:\n",
    "        partial derivative of func (array with the same shape of func).\n",
    "    \"\"\"\n",
    "    if method == 'findiff':\n",
    "        if order == 1:\n",
    "            #D = diags([-0.5*np.ones(N-1), 0.5*np.ones(N-1), -0.5, 0.5], offsets=[-1,1, N-1, -N+1])\n",
    "            D = diags([2/3 ,-1/12*np.ones(2), 1/12*np.ones(N-2), -2/3*np.ones(N-1), 2/3*np.ones(N-1), -1/12*np.ones(N-1), 1/12*np.ones(2), -2/3],\n",
    "          offsets=[-N+1, -N+2, -2,-1,1,2, N-2, N-1])\n",
    "\n",
    "            D /= d\n",
    "            if axis == 0:\n",
    "                return D @ func\n",
    "            elif axis == 1:\n",
    "                return func @ D.T\n",
    "        if order == 2:\n",
    "            D = diags([-2*np.ones(N), np.ones(N-1), np.ones(N-1), 1, 1], offsets = [0,1,-1, N-1, -N+1])\n",
    "            D /= d**2\n",
    "            if axis == 0:\n",
    "                return D @ func\n",
    "                Df[0,:] = np.zeros(N)\n",
    "            elif axis == 1:\n",
    "                return func @ D.T\n",
    "                \n",
    "    elif method == 'spectral':\n",
    "        from numpy.fft import fftn, ifftn, fftfreq \n",
    "        funcFFT = fftn(func)\n",
    "        if order == 1:\n",
    "            if axis == 0:\n",
    "                kx = 2j*np.pi*fftfreq(N, d=d)\n",
    "                kx = kx * (abs(kx) < 3/2 * abs(max(kx)))\n",
    "                dfunc = np.real((ifftn(kx*funcFFT)))\n",
    "                return dfunc\n",
    "        if order == 2:\n",
    "            if axis == 0:\n",
    "                kx = 2j*np.pi*fftfreq(N, d=d)\n",
    "                kx = kx * (abs(kx) < 3/2 * abs(max(kx)))\n",
    "                dfunc = np.real((ifftn(kx**2 * funcFFT)))\n",
    "                return dfunc"
   ]
  },
  {
   "cell_type": "code",
   "execution_count": 203,
   "id": "acfe63f3-f7b3-40e6-880c-3836c883200b",
   "metadata": {},
   "outputs": [],
   "source": [
    "### Definimos las funciones para calcular la evolucion temporal \n",
    "### con los metodos de Euler y RK4\n",
    "\n",
    "def euler(rho, dt, Nx, Ny):\n",
    "    x, dx = np.linspace(0, L, Nx, retstep=True)\n",
    "    y, dy = np.linspace(0, L, Ny, retstep=True)\n",
    "    Y, X = np.meshgrid(x, y)\n",
    "    K1 = (1j/(2*m) * (diff(rho, dx, Nx, order=2, axis=0) - diff(rho, dy, Ny, order=2, axis=1)) - \n",
    "           gamma * (X - Y) * (diff(rho, dx, Nx, order=1, axis=0) - diff(rho, dy, Ny, order=1, axis=1)) - \n",
    "           2 * m * gamma * T * (X - Y)**2 * rho)\n",
    "    rho[1:-1, 1:-1] = rho[1:-1, 1:-1] + dt*K1[1:-1, 1:-1]\n",
    "    return rho\n",
    "\n",
    "\n",
    "def RK2(rho, dt, Nx, Ny):\n",
    "    x, dx = np.linspace(0, L, Nx, retstep=True)\n",
    "    y, dy = np.linspace(0, L, Ny, retstep=True)\n",
    "    Y, X = np.meshgrid(x, y)\n",
    "    K1 = (1j/(2*m) * (diff(rho, dx, Nx, order=2, axis=0) - diff(rho, dy, Ny, order=2, axis=1)) - \n",
    "           gamma * (X - Y) * (diff(rho, dx, Nx, order=1, axis=0) - diff(rho, dy, Ny, order=1, axis=1)) - \n",
    "           2 * m * gamma * T * (X - Y)**2 * rho)\n",
    "    rho_aux = rho\n",
    "    rho_aux[1:-1, 1:-1] = rho_aux[1:-1, 1:-1] + dt*K1[1:-1, 1:-1]\n",
    "    K2 = (1j/(2*m) * (diff(rho_aux, dx, Nx, order=2, axis=0) - diff(rho_aux, dy, Ny, order=2, axis=1)) - \n",
    "           gamma * (X - Y) * (diff(rho_aux, dx, Nx, order=1, axis=0) - diff(rho_aux, dy, Ny, order=1, axis=1)) - \n",
    "           2 * m * gamma * T * (X - Y)**2 * rho_aux)\n",
    "    rho[1:-1, 1:-1] = rho[1:-1, 1:-1] + 0.5 * dt * (K1[1:-1, 1:-1] + K2[1:-1, 1:-1])\n",
    "    return rho"
   ]
  },
  {
   "cell_type": "code",
   "execution_count": 228,
   "id": "d979ce6f-7cc7-477c-957b-3e3d1eb2be38",
   "metadata": {},
   "outputs": [
    {
     "name": "stderr",
     "output_type": "stream",
     "text": [
      "100%|██████████████████████████████████████████████████████████████████████████████████████████████████████████████| 100000/100000 [1:32:34<00:00, 18.00it/s]\n"
     ]
    }
   ],
   "source": [
    "### Benchmark steady state\n",
    "tf = 50\n",
    "Nt = 100000\n",
    "t, dt = np.linspace(0, tf, Nt, retstep=True)\n",
    "N = 1024\n",
    "x, dx = np.linspace(0, L, N, retstep=True)\n",
    "y, dy = np.linspace(0, L, N, retstep=True)\n",
    "Y, X = np.meshgrid(x, y)\n",
    "\n",
    "state = init_state(var, dist, L, N, N)\n",
    "sol = final_state(var, dist, L, N, N)\n",
    "err = []\n",
    "for i in tqdm(range(Nt)):\n",
    "    state = RK2(state, dt, N, N)\n",
    "    err.append(np.max(np.abs(state-sol)))"
   ]
  },
  {
   "cell_type": "code",
   "execution_count": 229,
   "id": "5045d74e-8e7d-4909-8b2b-79e9624ea3b2",
   "metadata": {},
   "outputs": [
    {
     "data": {
      "image/png": "[encoded data removed]",
      "text/plain": [
       "<Figure size 640x480 with 1 Axes>"
      ]
     },
     "metadata": {},
     "output_type": "display_data"
    }
   ],
   "source": [
    "plt.plot(t, err)\n",
    "plt.plot(t, np.ones(Nt) * dt**2)\n",
    "plt.yscale('log')"
   ]
  },
  {
   "cell_type": "code",
   "execution_count": 173,
   "id": "528afd8b-4d77-4c31-a8b9-bd999d352ccd",
   "metadata": {},
   "outputs": [
    {
     "name": "stderr",
     "output_type": "stream",
     "text": [
      "100%|██████████████████████████████████████████████████████████████████████████████████████████████████████████████████████| 500/500 [00:26<00:00, 19.19it/s]\n",
      "100%|████████████████████████████████████████████████████████████████████████████████████████████████████████████████████| 1000/1000 [00:51<00:00, 19.25it/s]\n",
      "100%|██████████████████████████████████████████████████████████████████████████████████████████████████████████████████| 10000/10000 [08:30<00:00, 19.60it/s]\n"
     ]
    }
   ],
   "source": [
    "tf = 15\n",
    "Nts = [500, 1000, 10000]\n",
    "N = 1024\n",
    "x, dx = np.linspace(0, L, N, retstep=True)\n",
    "y, dy = np.linspace(0, L, N, retstep=True)\n",
    "Y, X = np.meshgrid(x, y)\n",
    "\n",
    "err = []\n",
    "d = []\n",
    "\n",
    "for Nt in Nts:\n",
    "    t, dt = np.linspace(0, tf, Nt, retstep=True)\n",
    "    state = init_state(var, dist, L, N, N)\n",
    "    for i in tqdm(range(Nt)):\n",
    "        state = RK2(state, dt, N, N)\n",
    "    d.append(dt)\n",
    "    err.append(np.max(np.abs(state-benchmark_state)))"
   ]
  },
  {
   "cell_type": "code",
   "execution_count": 174,
   "id": "18d75c53-21fc-4e94-9b15-ac7a755aa7f7",
   "metadata": {},
   "outputs": [
    {
     "data": {
      "image/png": "[encoded data removed]",
      "text/plain": [
       "<Figure size 640x480 with 1 Axes>"
      ]
     },
     "metadata": {},
     "output_type": "display_data"
    }
   ],
   "source": [
    "d = np.array(d)\n",
    "err = np.array(err)\n",
    "plt.plot(d, err)\n",
    "plt.xscale('log')\n",
    "plt.yscale('log')"
   ]
  },
  {
   "cell_type": "markdown",
   "id": "8b1b2b50-3884-43ac-893c-866d04ad0b5e",
   "metadata": {},
   "source": [
    "### Test diff\n",
    "\n",
    "Chequeamos que las derivadas con diferencias finitas funcionen bien. En particular nos fijamos que el error vaya como $dx_i**2$, ya que es la precisio"
   ]
  },
  {
   "cell_type": "code",
   "execution_count": 240,
   "id": "585ab9fd-98bf-46b3-9bdc-4ebf5fa18151",
   "metadata": {},
   "outputs": [
    {
     "data": {
      "image/png": "[encoded data removed]",
      "text/plain": [
       "<Figure size 640x480 with 1 Axes>"
      ]
     },
     "metadata": {},
     "output_type": "display_data"
    }
   ],
   "source": [
    "L = 2\n",
    "Ns = [64, 128, 256, 512]\n",
    "errx = []\n",
    "erry = []\n",
    "errxx = []\n",
    "erryy = []\n",
    "d = []\n",
    "for N in Ns:\n",
    "    x, dx = np.linspace(0, L, N, retstep = True)\n",
    "    y, dy = np.linspace(0, L, N, retstep = True)\n",
    "    Y, X = np.meshgrid(x, y)\n",
    "    f = np.sin(X)*np.cos(Y)\n",
    "    dxf = diff(f, dx, N, order=1, axis=0, method='findiff')\n",
    "    dyf = diff(f, dx, N, order=1, axis=1, method='findiff')\n",
    "    dxxf = diff(f, dx, N, order=2, axis=0, method='findiff')\n",
    "    dyyf = diff(f, dx, N, order=2, axis=1, method='findiff')\n",
    "    dxf_true = np.cos(X)*np.cos(Y)\n",
    "    dyf_true = -np.sin(X)*np.sin(Y)\n",
    "    dxxf_true = -np.sin(X)*np.cos(Y)\n",
    "    dyyf_true = -np.sin(X)*np.cos(Y)\n",
    "    errx.append(np.max(np.abs(dxf[1:-1, 1:-1] - dxf_true[1:-1, 1:-1])))\n",
    "    erry.append(np.max(np.abs(dyf[1:-1, 1:-1] - dyf_true[1:-1, 1:-1])))\n",
    "    errxx.append(np.max(np.abs(dxxf[1:-1, 1:-1] - dxxf_true[1:-1, 1:-1])))\n",
    "    erryy.append(np.max(np.abs(dyyf[1:-1, 1:-1] - dyyf_true[1:-1, 1:-1])))\n",
    "    d.append(dx)\n",
    "d = np.array(d)\n",
    "plt.plot(d, errx, '.', label='err x')\n",
    "plt.plot(d, erry, '.', label='err y')\n",
    "plt.plot(d, errxx, '.', label='err xx')\n",
    "plt.plot(d, erryy, '.', label='err yy')\n",
    "plt.plot(d, d**2)\n",
    "plt.legend()\n",
    "plt.xscale('log')\n",
    "plt.yscale('log')\n",
    "plt.grid()"
   ]
  },
  {
   "cell_type": "code",
   "execution_count": null,
   "id": "8b01cd70-1b18-44c0-9101-11de2cc67800",
   "metadata": {},
   "outputs": [],
   "source": []
  }
 ],
 "metadata": {
  "kernelspec": {
   "display_name": "Python 3 (ipykernel)",
   "language": "python",
   "name": "python3"
  },
  "language_info": {
   "codemirror_mode": {
    "name": "ipython",
    "version": 3
   },
   "file_extension": ".py",
   "mimetype": "text/x-python",
   "name": "python",
   "nbconvert_exporter": "python",
   "pygments_lexer": "ipython3",
   "version": "3.12.3"
  }
 },
 "nbformat": 4,
 "nbformat_minor": 5
}
